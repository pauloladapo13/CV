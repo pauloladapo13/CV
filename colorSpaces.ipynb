{
 "cells": [
  {
   "cell_type": "code",
   "execution_count": 2,
   "metadata": {},
   "outputs": [],
   "source": [
    "import cv2 \n",
    "import numpy as np \n",
    "from matplotlib import pyplot as plt\n",
    "\n",
    "# load image from the same directory\n",
    "\n",
    "image = cv2.imread('./empire2.jpg')\n"
   ]
  },
  {
   "cell_type": "code",
   "execution_count": 3,
   "metadata": {},
   "outputs": [],
   "source": [
    "#Use cv2.split tokk get each color space separately\n",
    "\n",
    "B, G, R = cv2.split(image)\n",
    "\n"
   ]
  },
  {
   "cell_type": "code",
   "execution_count": 5,
   "metadata": {},
   "outputs": [
    {
     "ename": "AttributeError",
     "evalue": "module 'cv2' has no attribute 'imsahow'",
     "output_type": "error",
     "traceback": [
      "\u001b[0;31m---------------------------------------------------------------------------\u001b[0m",
      "\u001b[0;31mAttributeError\u001b[0m                            Traceback (most recent call last)",
      "\u001b[1;32m/Users/pauloladapo/Desktop/Computer Vision/CV/colorSpaces.ipynb Cell 3\u001b[0m in \u001b[0;36m<module>\u001b[0;34m\u001b[0m\n\u001b[1;32m      <a href='vscode-notebook-cell:/Users/pauloladapo/Desktop/Computer%20Vision/CV/colorSpaces.ipynb#W3sZmlsZQ%3D%3D?line=0'>1</a>\u001b[0m \u001b[39m# Each color space on it's on will look like a grayscale as it laxks the other color channels\u001b[39;00m\n\u001b[0;32m----> <a href='vscode-notebook-cell:/Users/pauloladapo/Desktop/Computer%20Vision/CV/colorSpaces.ipynb#W3sZmlsZQ%3D%3D?line=1'>2</a>\u001b[0m cv2\u001b[39m.\u001b[39;49mimsahow(\u001b[39m\"\u001b[39m\u001b[39mBlue Channel Only\u001b[39m\u001b[39m\"\u001b[39m, B)\n",
      "\u001b[0;31mAttributeError\u001b[0m: module 'cv2' has no attribute 'imsahow'"
     ]
    }
   ],
   "source": [
    "# Each color space on it's on will look like a grayscale as it laxks the other color channels\n",
    "cv2.imshow(\"Blue Channel Only\", B)"
   ]
  }
 ],
 "metadata": {
  "kernelspec": {
   "display_name": "Python 3.10.2 64-bit",
   "language": "python",
   "name": "python3"
  },
  "language_info": {
   "codemirror_mode": {
    "name": "ipython",
    "version": 3
   },
   "file_extension": ".py",
   "mimetype": "text/x-python",
   "name": "python",
   "nbconvert_exporter": "python",
   "pygments_lexer": "ipython3",
   "version": "3.10.2"
  },
  "orig_nbformat": 4,
  "vscode": {
   "interpreter": {
    "hash": "aee8b7b246df8f9039afb4144a1f6fd8d2ca17a180786b69acc140d282b71a49"
   }
  }
 },
 "nbformat": 4,
 "nbformat_minor": 2
}
